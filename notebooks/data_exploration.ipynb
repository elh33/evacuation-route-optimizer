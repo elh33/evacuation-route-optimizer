{
 "cells": [
  {
   "cell_type": "markdown",
   "metadata": {},
   "source": [
    "# Data Exploration for Evacuation Route Optimization\n",
    "\n",
    "This notebook demonstrates how to collect and explore various data sources used in the evacuation route optimization project."
   ]
  },
  {
   "cell_type": "code",
   "execution_count": null,
   "metadata": {},
   "outputs": [],
   "source": [
    "import os\n",
    "import sys\n",
    "import numpy as np\n",
    "import pandas as pd\n",
    "import matplotlib.pyplot as plt\n",
    "import seaborn as sns\n",
    "import geopandas as gpd\n",
    "import osmnx as ox\n",
    "import networkx as nx\n",
    "import folium\n",
    "import requests\n",
    "from pathlib import Path\n",
    "\n",
    "# Add project root to path\n",
    "sys.path.append('..')\n",
    "from config import RAW_DATA_DIR, PROCESSED_DATA_DIR, OPENWEATHERMAP_API_KEY"
   ]
  },
  {
   "cell_type": "code",
   "execution_count": null,
   "metadata": {},
   "outputs": [],
   "source": [
    "# This should be a markdown cell, not code\n",
    "# Change cell type to \"Markdown\" and use this content:\n",
    "# ## 1. OpenStreetMap Data Collection and Exploration\n",
    "#\n",
    "# First, let's download and explore the road network data from OpenStreetMap."
   ]
  },
  {
   "cell_type": "code",
   "execution_count": null,
   "metadata": {},
   "outputs": [],
   "source": [
    "# Define the city to analyze\n",
    "city = \"Paris, France\"\n",
    "\n",
    "# Download the road network\n",
    "G = ox.graph_from_place(city, network_type='drive')\n",
    "\n",
    "# Basic statistics\n",
    "print(f\"Number of nodes: {len(G.nodes)}\")\n",
    "print(f\"Number of edges: {len(G.edges)}\")"
   ]
  },
  {
   "cell_type": "code",
   "execution_count": null,
   "metadata": {},
   "outputs": [],
   "source": [
    "# Plot the network\n",
    "fig, ax = ox.plot_graph(G, figsize=(12, 8), node_size=0, edge_linewidth=0.5)"
   ]
  },
  {
   "cell_type": "code",
   "execution_count": null,
   "metadata": {},
   "outputs": [],
   "source": [
    "# Convert the graph to GeoDataFrames\n",
    "nodes, edges = ox.graph_to_gdfs(G)\n",
    "\n",
    "# Display the first few rows of the nodes DataFrame\n",
    "nodes.head()"
   ]
  },
  {
   "cell_type": "code",
   "execution_count": null,
   "metadata": {},
   "outputs": [],
   "source": [
    "# Display the first few rows of the edges DataFrame\n",
    "edges.head()"
   ]
  },
  {
   "cell_type": "markdown",
   "metadata": {},
   "source": [
    "## 2. Weather Data Collection and Exploration\n",
    "\n",
    "Now, let's collect and analyze weather data from OpenWeatherMap."
   ]
  },
  {
   "cell_type": "code",
   "execution_count": null,
   "metadata": {},
   "outputs": [],
   "source": [
    "# Define the API endpoint for current weather\n",
    "url = f\"https://api.openweathermap.org/data/2.5/weather?q={city.split(',')[0]}&appid={OPENWEATHERMAP_API_KEY}&units=metric\"\n",
    "\n",
    "# Make the API request\n",
    "response = requests.get(url)\n",
    "weather_data = response.json()\n",
    "\n",
    "# Print the weather data\n",
    "print(f\"Temperature: {weather_data['main']['temp']}°C\")\n",
    "print(f\"Humidity: {weather_data['main']['humidity']}%\")\n",
    "print(f\"Wind Speed: {weather_data['wind']['speed']} m/s\")\n",
    "print(f\"Weather: {weather_data['weather'][0]['main']} - {weather_data['weather'][0]['description']}\")"
   ]
  },
  {
   "cell_type": "code",
   "execution_count": null,
   "metadata": {},
   "outputs": [],
   "source": [
    "# Define the API endpoint for 5-day forecast\n",
    "forecast_url = f\"https://api.openweathermap.org/data/2.5/forecast?q={city.split(',')[0]}&appid={OPENWEATHERMAP_API_KEY}&units=metric\"\n",
    "\n",
    "# Make the API request\n",
    "forecast_response = requests.get(forecast_url)\n",
    "forecast_data = forecast_response.json()\n",
    "\n",
    "# Extract forecast data points\n",
    "forecast_times = []\n",
    "forecast_temps = []\n",
    "forecast_precip = []\n",
    "\n",
    "for item in forecast_data['list']:\n",
    "    forecast_times.append(pd.to_datetime(item['dt_txt']))\n",
    "    forecast_temps.append(item['main']['temp'])\n",
    "    # Rain data might not be present in all forecasts\n",
    "    if 'rain' in item and '3h' in item['rain']:\n",
    "        forecast_precip.append(item['rain']['3h'])\n",
    "    else:\n",
    "        forecast_precip.append(0)\n",
    "\n",
    "# Create a DataFrame for the forecast\n",
    "forecast_df = pd.DataFrame({\n",
    "    'time': forecast_times,\n",
    "    'temperature': forecast_temps,\n",
    "    'precipitation': forecast_precip\n",
    "})"
   ]
  },
  {
   "cell_type": "code",
   "execution_count": null,
   "metadata": {},
   "outputs": [],
   "source": [
    "# Plot the temperature forecast\n",
    "plt.figure(figsize=(12, 6))\n",
    "plt.plot(forecast_df['time'], forecast_df['temperature'], 'r-', linewidth=2)\n",
    "plt.title('Temperature Forecast')\n",
    "plt.xlabel('Time')\n",
    "plt.ylabel('Temperature (°C)')\n",
    "plt.grid(True)\n",
    "plt.xticks(rotation=45)\n",
    "plt.tight_layout()\n",
    "plt.show()"
   ]
  },
  {
   "cell_type": "code",
   "execution_count": null,
   "metadata": {},
   "outputs": [],
   "source": [
    "# Plot the precipitation forecast\n",
    "plt.figure(figsize=(12, 6))\n",
    "plt.bar(forecast_df['time'], forecast_df['precipitation'], color='blue', alpha=0.7)\n",
    "plt.title('Precipitation Forecast (3-hour)')\n",
    "plt.xlabel('Time')\n",
    "plt.ylabel('Precipitation (mm)')\n",
    "plt.grid(True, axis='y')\n",
    "plt.xticks(rotation=45)\n",
    "plt.tight_layout()\n",
    "plt.show()"
   ]
  },
  {
   "cell_type": "markdown",
   "metadata": {},
   "source": [
    "## 3. Simulating Hazard Data\n",
    "\n",
    "For demonstration purposes, let's simulate some hazard data to overlay on the map."
   ]
  },
  {
   "cell_type": "code",
   "execution_count": null,
   "metadata": {},
   "outputs": [],
   "source": [
    "# Get the bounding box of the city\n",
    "bbox = ox.utils_geo.bbox_from_point(\n",
    "    (G.nodes[list(G.nodes)[0]]['y'], G.nodes[list(G.nodes)[0]]['x']),\n",
    "    dist=10000  # 10 km\n",
    ")\n",
    "north, south, east, west = bbox"
   ]
  },
  {
   "cell_type": "code",
   "execution_count": null,
   "metadata": {},
   "outputs": [],
   "source": [
    "# Function to create a random polygon\n",
    "def create_random_polygon(center_lat, center_lon, radius=0.01, num_points=8):\n",
    "    # Generate random points around the center\n",
    "    angles = np.linspace(0, 2*np.pi, num_points, endpoint=False)\n",
    "    distances = np.random.uniform(0.5*radius, radius, num_points)\n",
    "    \n",
    "    # Calculate coordinates\n",
    "    lats = center_lat + distances * np.sin(angles)\n",
    "    lons = center_lon + distances * np.cos(angles)\n",
    "    \n",
    "    # Close the polygon\n",
    "    lats = np.append(lats, lats[0])\n",
    "    lons = np.append(lons, lons[0])\n",
    "    \n",
    "    return list(zip(lats, lons))"
   ]
  },
  {
   "cell_type": "code",
   "execution_count": null,
   "metadata": {},
   "outputs": [],
   "source": [
    "# Create simulated hazard data\n",
    "num_hazards = 5\n",
    "hazard_types = ['flood', 'fire', 'storm', 'chemical', 'landslide']\n",
    "hazard_data = []\n",
    "\n",
    "for i in range(num_hazards):\n",
    "    # Random center point within the bounding box\n",
    "    center_lat = np.random.uniform(south, north)\n",
    "    center_lon = np.random.uniform(west, east)\n",
    "    \n",
    "    # Random hazard type and severity\n",
    "    hazard_type = hazard_types[i % len(hazard_types)]\n",
    "    severity = np.random.uniform(0.3, 0.9)\n",
    "    \n",
    "    # Create polygon for the hazard area\n",
    "    polygon = create_random_polygon(center_lat, center_lon, radius=0.02)\n",
    "    \n",
    "    hazard_data.append({\n",
    "        'type': hazard_type,\n",
    "        'severity': severity,\n",
    "        'coordinates': polygon\n",
    "    })"
   ]
  },
  {
   "cell_type": "code",
   "execution_count": null,
   "metadata": {},
   "outputs": [],
   "source": [
    "# Create a map to visualize the hazards\n",
    "center_lat = (north + south) / 2\n",
    "center_lon = (east + west) / 2\n",
    "\n",
    "m = folium.Map(location=[center_lat, center_lon], zoom_start=12)\n",
    "\n",
    "# Add the road network\n",
    "for u, v, data in G.edges(data=True):\n",
    "    points = [(G.nodes[u]['y'], G.nodes[u]['x']), (G.nodes[v]['y'], G.nodes[v]['x'])]\n",
    "    folium.PolyLine(points, color='gray', weight=1, opacity=0.7).add_to(m)\n",
    "\n",
    "# Add hazard areas\n",
    "for hazard in hazard_data:\n",
    "    # Choose color based on hazard type\n",
    "    if hazard['type'] == 'flood':\n",
    "        color = 'blue'\n",
    "    elif hazard['type'] == 'fire':\n",
    "        color = 'red'\n",
    "    elif hazard['type'] == 'storm':\n",
    "        color = 'purple'\n",
    "    elif hazard['type'] == 'chemical':\n",
    "        color = 'green'\n",
    "    else:  # landslide\n",
    "        color = 'brown'\n",
    "    \n",
    "    # Add polygon\n",
    "    folium.Polygon(\n",
    "        locations=hazard['coordinates'],\n",
    "        color=color,\n",
    "        fill=True,\n",
    "        fill_color=color,\n",
    "        fill_opacity=0.4,\n",
    "        weight=2,\n",
    "        popup=f\"{hazard['type'].capitalize()} - Severity: {hazard['severity']:.2f}\"\n",
    "    ).add_to(m)\n",
    "\n",
    "m"
   ]
  },
  {
   "cell_type": "markdown",
   "metadata": {},
   "source": [
    "## 4. Pathfinding and Route Optimization\n",
    "\n",
    "Let's demonstrate how to calculate evacuation routes using our A* algorithm."
   ]
  },
  {
   "cell_type": "code",
   "execution_count": null,
   "metadata": {},
   "outputs": [],
   "source": [
    "# Import the pathfinding module\n",
    "from src.optimization.pathfinding import AStarPathfinder"
   ]
  },
  {
   "cell_type": "code",
   "execution_count": null,
   "metadata": {},
   "outputs": [],
   "source": [
    "# Assign risk values to the road network based on simulated hazards\n",
    "# Convert hazard polygons to GeoDataFrames for spatial operations\n",
    "from shapely.geometry import Polygon, LineString, Point\n",
    "\n",
    "# Create GeoDataFrame for hazards\n",
    "hazard_polygons = []\n",
    "hazard_types = []\n",
    "hazard_severities = []\n",
    "\n",
    "for hazard in hazard_data:\n",
    "    # Convert coordinates to shapely Polygon\n",
    "    polygon = Polygon([(lon, lat) for lat, lon in hazard['coordinates']])\n",
    "    hazard_polygons.append(polygon)\n",
    "    hazard_types.append(hazard['type'])\n",
    "    hazard_severities.append(hazard['severity'])\n",
    "\n",
    "hazard_gdf = gpd.GeoDataFrame({\n",
    "    'type': hazard_types,\n",
    "    'severity': hazard_severities,\n",
    "    'geometry': hazard_polygons\n",
    "})"
   ]
  },
  {
   "cell_type": "code",
   "execution_count": null,
   "metadata": {},
   "outputs": [],
   "source": [
    "# Assign risk values to each edge based on intersection with hazard areas\n",
    "for u, v, key, data in G.edges(data=True, keys=True):\n",
    "    # Extract the geometry of the edge\n",
    "    if 'geometry' in data:\n",
    "        # If geometry exists, use it directly\n",
    "        edge_geom = data['geometry']\n",
    "    else:\n",
    "        # Otherwise, create a LineString from the nodes\n",
    "        edge_geom = LineString([(G.nodes[u]['x'], G.nodes[u]['y']), (G.nodes[v]['x'], G.nodes[v]['y'])])\n",
    "    \n",
    "    # Calculate risk based on intersections with hazards\n",
    "    risk = 0.0\n",
    "    \n",
    "    for idx, hazard in hazard_gdf.iterrows():\n",
    "        if edge_geom.intersects(hazard.geometry):\n",
    "            # If the edge intersects a hazard area, add to the risk based on severity\n",
    "            risk += hazard.severity\n",
    "    \n",
    "    # Normalize risk to [0, 1] if it exceeds 1\n",
    "    risk = min(risk, 1.0)\n",
    "    \n",
    "    # Assign the risk to the edge\n",
    "    G[u][v][key]['risk'] = risk"
   ]
  },
  {
   "cell_type": "code",
   "execution_count": null,
   "metadata": {},
   "outputs": [],
   "source": [
    "# Find a route between two points using A* algorithm\n",
    "# First, select two random nodes as start and end points\n",
    "all_nodes = list(G.nodes())\n",
    "start_node = all_nodes[np.random.randint(0, len(all_nodes))]\n",
    "end_node = all_nodes[np.random.randint(0, len(all_nodes))]\n",
    "\n",
    "# Make sure start and end nodes are different\n",
    "while end_node == start_node:\n",
    "    end_node = all_nodes[np.random.randint(0, len(all_nodes))]"
   ]
  },
  {
   "cell_type": "code",
   "execution_count": null,
   "metadata": {},
   "outputs": [],
   "source": [
    "# Initialize the pathfinder\n",
    "pathfinder = AStarPathfinder(risk_weight=0.7, time_weight=0.3)\n",
    "\n",
    "# Find the optimal path\n",
    "path, cost = pathfinder.find_path(G, start_node, end_node)\n",
    "\n",
    "if path:\n",
    "    print(f\"Found path with {len(path)} nodes and cost {cost:.2f}\")\n",
    "else:\n",
    "    print(\"No path found between the selected nodes.\")"
   ]
  },
  {
   "cell_type": "code",
   "execution_count": null,
   "metadata": {},
   "outputs": [],
   "source": [
    "# Find alternative paths\n",
    "alt_paths = pathfinder.find_multiple_paths(G, start_node, end_node, num_paths=3)\n",
    "\n",
    "print(f\"Found {len(alt_paths)} alternative paths\")\n",
    "for i, (path, cost) in enumerate(alt_paths):\n",
    "    print(f\"Path {i+1}: {len(path)} nodes, cost {cost:.2f}\")"
   ]
  },
  {
   "cell_type": "code",
   "execution_count": null,
   "metadata": {},
   "outputs": [],
   "source": [
    "# Visualize the paths on a map\n",
    "m = folium.Map(location=[center_lat, center_lon], zoom_start=12)\n",
    "\n",
    "# Add the road network\n",
    "for u, v, data in G.edges(data=True):\n",
    "    points = [(G.nodes[u]['y'], G.nodes[u]['x']), (G.nodes[v]['y'], G.nodes[v]['x'])]\n",
    "    folium.PolyLine(points, color='gray', weight=1, opacity=0.5).add_to(m)\n",
    "\n",
    "# Add hazard areas\n",
    "for hazard in hazard_data:\n",
    "    # Choose color based on hazard type\n",
    "    if hazard['type'] == 'flood':\n",
    "        color = 'blue'\n",
    "    elif hazard['type'] == 'fire':\n",
    "        color = 'red'\n",
    "    elif hazard['type'] == 'storm':\n",
    "        color = 'purple'\n",
    "    elif hazard['type'] == 'chemical':\n",
    "        color = 'green'\n",
    "    else:  # landslide\n",
    "        color = 'brown'\n",
    "    \n",
    "    # Add polygon\n",
    "    folium.Polygon(\n",
    "        locations=hazard['coordinates'],\n",
    "        color=color,\n",
    "        fill=True,\n",
    "        fill_color=color,\n",
    "        fill_opacity=0.4,\n",
    "        weight=2,\n",
    "        popup=f\"{hazard['type'].capitalize()} - Severity: {hazard['severity']:.2f}\"\n",
    "    ).add_to(m)\n",
    "\n",
    "# Add the paths\n",
    "colors = ['blue', 'red', 'green']\n",
    "for i, (path, cost) in enumerate(alt_paths):\n",
    "    # Extract coordinates for the path\n",
    "    path_coords = []\n",
    "    for node in path:\n",
    "        path_coords.append((G.nodes[node]['y'], G.nodes[node]['x']))\n",
    "    \n",
    "    # Add the path to the map\n",
    "    folium.PolyLine(\n",
    "        path_coords,\n",
    "        color=colors[i % len(colors)],\n",
    "        weight=4,\n",
    "        opacity=0.8,\n",
    "        popup=f\"Path {i+1}: Cost {cost:.2f}\"\n",
    "    ).add_to(m)\n",
    "\n",
    "# Add markers for start and end points\n",
    "folium.Marker(\n",
    "    location=(G.nodes[start_node]['y'], G.nodes[start_node]['x']),\n",
    "    icon=folium.Icon(color='green', icon='play'),\n",
    "    popup='Start'\n",
    ").add_to(m)\n",
    "\n",
    "folium.Marker(\n",
    "    location=(G.nodes[end_node]['y'], G.nodes[end_node]['x']),\n",
    "    icon=folium.Icon(color='red', icon='stop'),\n",
    "    popup='End'\n",
    ").add_to(m)\n",
    "\n",
    "m"
   ]
  },
  {
   "cell_type": "markdown",
   "metadata": {},
   "source": [
    "## 5. Conclusion\n",
    "\n",
    "In this notebook, we have demonstrated how to:\n",
    "\n",
    "1. Download and explore road network data from OpenStreetMap\n",
    "2. Collect and analyze weather data from OpenWeatherMap\n",
    "3. Simulate hazard data and visualize it on a map\n",
    "4. Assign risk values to road segments based on hazards\n",
    "5. Calculate optimal evacuation routes using the A* algorithm\n",
    "6. Find alternative routes and visualize them on a map\n",
    "\n",
    "This provides a foundation for building a real-time evacuation route optimization system."
   ]
  }
 ],
 "metadata": {
  "kernelspec": {
   "display_name": ".venv",
   "language": "python",
   "name": "python3"
  },
  "language_info": {
   "name": "python",
   "version": "3.12.2"
  }
 },
 "nbformat": 4,
 "nbformat_minor": 2
}
