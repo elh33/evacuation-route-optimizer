{
 "cells": [
  {
   "cell_type": "markdown",
   "metadata": {},
   "source": [
    "# 🧪 Urban Evacuation Model Testing\n",
    "\n",
    "Ce notebook contient des tests unitaires et empiriques sur les composants suivants :\n",
    "- 🧠 Modèle A* personnalisé (AStarPathfinder)\n",
    "- 📊 Pondération des arêtes (risque + temps)\n",
    "- 🧮 Génération de routes multiples diversifiées\n"
   ]
  },
  {
   "cell_type": "code",
   "execution_count": 4,
   "metadata": {},
   "outputs": [
    {
     "ename": "ModuleNotFoundError",
     "evalue": "No module named 'evacuation'",
     "output_type": "error",
     "traceback": [
      "\u001b[31m---------------------------------------------------------------------------\u001b[39m",
      "\u001b[31mModuleNotFoundError\u001b[39m                       Traceback (most recent call last)",
      "\u001b[36mCell\u001b[39m\u001b[36m \u001b[39m\u001b[32mIn[4]\u001b[39m\u001b[32m, line 3\u001b[39m\n\u001b[32m      1\u001b[39m \u001b[38;5;28;01mimport\u001b[39;00m\u001b[38;5;250m \u001b[39m\u001b[34;01mnetworkx\u001b[39;00m\u001b[38;5;250m \u001b[39m\u001b[38;5;28;01mas\u001b[39;00m\u001b[38;5;250m \u001b[39m\u001b[34;01mnx\u001b[39;00m\n\u001b[32m      2\u001b[39m \u001b[38;5;28;01mimport\u001b[39;00m\u001b[38;5;250m \u001b[39m\u001b[34;01mmatplotlib\u001b[39;00m\u001b[34;01m.\u001b[39;00m\u001b[34;01mpyplot\u001b[39;00m\u001b[38;5;250m \u001b[39m\u001b[38;5;28;01mas\u001b[39;00m\u001b[38;5;250m \u001b[39m\u001b[34;01mplt\u001b[39;00m\n\u001b[32m----> \u001b[39m\u001b[32m3\u001b[39m \u001b[38;5;28;01mfrom\u001b[39;00m\u001b[38;5;250m \u001b[39m\u001b[34;01mevacuation\u001b[39;00m\u001b[34;01m.\u001b[39;00m\u001b[34;01mevacuator\u001b[39;00m\u001b[38;5;250m \u001b[39m\u001b[38;5;28;01mimport\u001b[39;00m AStarPathfinder\n\u001b[32m      4\u001b[39m \u001b[38;5;28;01mfrom\u001b[39;00m\u001b[38;5;250m \u001b[39m\u001b[34;01mcollectors\u001b[39;00m\u001b[34;01m.\u001b[39;00m\u001b[34;01mgraph_builder\u001b[39;00m\u001b[38;5;250m \u001b[39m\u001b[38;5;28;01mimport\u001b[39;00m GraphBuilder\n",
      "\u001b[31mModuleNotFoundError\u001b[39m: No module named 'evacuation'"
     ]
    }
   ],
   "source": [
    "import networkx as nx\n",
    "import matplotlib.pyplot as plt\n",
    "from evacuation.evacuator import AStarPathfinder\n",
    "from collectors.graph_builder import GraphBuilder\n"
   ]
  },
  {
   "cell_type": "code",
   "execution_count": null,
   "metadata": {},
   "outputs": [],
   "source": [
    "graph = GraphBuilder().build_graph_from_osm(\"marrakech\")\n"
   ]
  },
  {
   "cell_type": "code",
   "execution_count": null,
   "metadata": {},
   "outputs": [],
   "source": [
    "pathfinder = AStarPathfinder()\n",
    "start, end = list(graph.nodes())[0], list(graph.nodes())[-1]\n",
    "path, cost = pathfinder.find_path(graph, start, end)\n",
    "print(f\"Path: {path}, Cost: {cost}\")\n"
   ]
  },
  {
   "cell_type": "code",
   "execution_count": null,
   "metadata": {},
   "outputs": [],
   "source": [
    "multi_paths = pathfinder.find_multiple_paths(graph, start, end)\n",
    "for idx, (p, c) in enumerate(multi_paths):\n",
    "    print(f\"Route {idx + 1}: {p} (Cost: {c})\")\n"
   ]
  },
  {
   "cell_type": "code",
   "execution_count": null,
   "metadata": {},
   "outputs": [],
   "source": [
    "pos = {node: (graph.nodes[node]['x'], graph.nodes[node]['y']) for node in graph.nodes}\n",
    "nx.draw(graph, pos, node_size=1, alpha=0.4)\n",
    "nx.draw_networkx_nodes(graph, pos, nodelist=path, node_color='red', node_size=10)\n",
    "plt.title(\"Route optimisée\")\n",
    "plt.show()\n"
   ]
  }
 ],
 "metadata": {
  "kernelspec": {
   "display_name": ".venv",
   "language": "python",
   "name": "python3"
  },
  "language_info": {
   "codemirror_mode": {
    "name": "ipython",
    "version": 3
   },
   "file_extension": ".py",
   "mimetype": "text/x-python",
   "name": "python",
   "nbconvert_exporter": "python",
   "pygments_lexer": "ipython3",
   "version": "3.12.2"
  }
 },
 "nbformat": 4,
 "nbformat_minor": 2
}
