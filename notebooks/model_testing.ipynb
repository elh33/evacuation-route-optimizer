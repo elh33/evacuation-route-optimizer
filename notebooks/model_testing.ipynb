{
 "cells": [
  {
   "cell_type": "code",
   "execution_count": null,
   "metadata": {
    "vscode": {
     "languageId": "plaintext"
    }
   },
   "outputs": [],
   "source": [
    "# 🧪 Urban Evacuation Model Testing\n",
    "\n",
    "Ce notebook contient des tests unitaires et empiriques sur les composants suivants :\n",
    "- 🧠 Modèle A* personnalisé (AStarPathfinder)\n",
    "- 📊 Pondération des arêtes (risque + temps)\n",
    "- 🧮 Génération de routes multiples diversifiées\n"
   ]
  },
  {
   "cell_type": "code",
   "execution_count": null,
   "metadata": {
    "vscode": {
     "languageId": "plaintext"
    }
   },
   "outputs": [],
   "source": [
    "import networkx as nx\n",
    "import matplotlib.pyplot as plt\n",
    "from evacuation.evacuator import AStarPathfinder\n",
    "from collectors.graph_builder import GraphBuilder\n"
   ]
  },
  {
   "cell_type": "code",
   "execution_count": null,
   "metadata": {
    "vscode": {
     "languageId": "plaintext"
    }
   },
   "outputs": [],
   "source": [
    "graph = GraphBuilder().build_graph_from_osm(\"marrakech\")\n"
   ]
  },
  {
   "cell_type": "code",
   "execution_count": null,
   "metadata": {
    "vscode": {
     "languageId": "plaintext"
    }
   },
   "outputs": [],
   "source": [
    "pathfinder = AStarPathfinder()\n",
    "start, end = list(graph.nodes())[0], list(graph.nodes())[-1]\n",
    "path, cost = pathfinder.find_path(graph, start, end)\n",
    "print(f\"Path: {path}, Cost: {cost}\")\n"
   ]
  },
  {
   "cell_type": "code",
   "execution_count": null,
   "metadata": {
    "vscode": {
     "languageId": "plaintext"
    }
   },
   "outputs": [],
   "source": [
    "multi_paths = pathfinder.find_multiple_paths(graph, start, end)\n",
    "for idx, (p, c) in enumerate(multi_paths):\n",
    "    print(f\"Route {idx + 1}: {p} (Cost: {c})\")\n"
   ]
  },
  {
   "cell_type": "code",
   "execution_count": null,
   "metadata": {
    "vscode": {
     "languageId": "plaintext"
    }
   },
   "outputs": [],
   "source": [
    "pos = {node: (graph.nodes[node]['x'], graph.nodes[node]['y']) for node in graph.nodes}\n",
    "nx.draw(graph, pos, node_size=1, alpha=0.4)\n",
    "nx.draw_networkx_nodes(graph, pos, nodelist=path, node_color='red', node_size=10)\n",
    "plt.title(\"Route optimisée\")\n",
    "plt.show()\n"
   ]
  }
 ],
 "metadata": {
  "language_info": {
   "name": "python"
  }
 },
 "nbformat": 4,
 "nbformat_minor": 2
}
