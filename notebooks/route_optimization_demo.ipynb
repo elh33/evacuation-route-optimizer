{
 "cells": [
  {
   "cell_type": "code",
   "execution_count": null,
   "metadata": {
    "vscode": {
     "languageId": "plaintext"
    }
   },
   "outputs": [],
   "source": [
    "# 🧭 Route Optimization — Parametric Study\n",
    "\n",
    "Ce notebook explore l’effet de différents paramètres :\n",
    "- ⚖️ Poids du risque vs temps de trajet\n",
    "- 📍 Nombre de routes alternatives\n",
    "- 🎲 Facteur de diversité (diversity factor)\n",
    "\n"
   ]
  },
  {
   "cell_type": "code",
   "execution_count": null,
   "metadata": {
    "vscode": {
     "languageId": "plaintext"
    }
   },
   "outputs": [],
   "source": [
    "weights = [(0.9, 0.1), (0.7, 0.3), (0.5, 0.5)]\n",
    "diversities = [0.1, 0.3, 0.5]\n",
    "results = []\n"
   ]
  },
  {
   "cell_type": "code",
   "execution_count": null,
   "metadata": {
    "vscode": {
     "languageId": "plaintext"
    }
   },
   "outputs": [],
   "source": [
    "for rw, tw in weights:\n",
    "    for df in diversities:\n",
    "        pf = AStarPathfinder(risk_weight=rw, time_weight=tw)\n",
    "        routes = pf.find_multiple_paths(graph, start, end, num_paths=3, diversity_factor=df)\n",
    "        results.append({\n",
    "            \"risk_weight\": rw,\n",
    "            \"time_weight\": tw,\n",
    "            \"diversity\": df,\n",
    "            \"num_routes\": len(routes),\n",
    "            \"avg_cost\": sum([c for _, c in routes]) / len(routes) if routes else None\n",
    "        })\n"
   ]
  },
  {
   "cell_type": "code",
   "execution_count": null,
   "metadata": {
    "vscode": {
     "languageId": "plaintext"
    }
   },
   "outputs": [],
   "source": [
    "import pandas as pd\n",
    "df = pd.DataFrame(results)\n",
    "df.pivot(\"risk_weight\", \"diversity\", \"avg_cost\").plot(kind=\"bar\")\n",
    "plt.title(\"Coût moyen selon les paramètres\")\n",
    "plt.ylabel(\"Coût (normalisé)\")\n",
    "plt.show()\n"
   ]
  }
 ],
 "metadata": {
  "language_info": {
   "name": "python"
  }
 },
 "nbformat": 4,
 "nbformat_minor": 2
}
